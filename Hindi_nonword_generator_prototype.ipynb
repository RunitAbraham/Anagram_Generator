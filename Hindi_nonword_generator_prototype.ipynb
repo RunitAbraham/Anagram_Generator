{
 "cells": [
  {
   "cell_type": "code",
   "execution_count": 16,
   "id": "6fd0557a",
   "metadata": {},
   "outputs": [],
   "source": [
    "import random\n",
    "import nltk\n",
    "from nltk.corpus import indian # added for testing, but didnt find a useful database."
   ]
  },
  {
   "cell_type": "code",
   "execution_count": 17,
   "id": "2f5e543c",
   "metadata": {},
   "outputs": [
    {
     "name": "stdout",
     "output_type": "stream",
     "text": [
      "Two-letter Nonwords:\n",
      "धए\n",
      "वअ\n",
      "फई\n",
      "यउ\n",
      "यअ\n",
      "लअ\n",
      "कइ\n",
      "बअ\n",
      "झआ\n",
      "लउ\n",
      "\n",
      "Three-letter Nonwords:\n",
      "ठअप\n",
      "रइच\n",
      "छअग\n",
      "पऐर\n",
      "मअय\n",
      "खअठ\n",
      "धओथ\n",
      "घउर\n",
      "धइम\n",
      "ठइख\n"
     ]
    }
   ],
   "source": [
    "class TrieNode:\n",
    "    \"\"\"A node in the trie structure that represents a character in a word.\"\"\"\n",
    "    def __init__(self):\n",
    "        self.children = {}\n",
    "        self.is_end_of_word = False\n",
    "\n",
    "class Trie:\n",
    "    \"\"\"The trie data structure for storing words efficiently.\"\"\"\n",
    "    def __init__(self):\n",
    "        self.root = TrieNode()\n",
    "    \n",
    "    def insert(self, word):\n",
    "        \"\"\"Insert a word into the trie.\"\"\"\n",
    "        node = self.root\n",
    "        for char in word:\n",
    "            if char not in node.children:\n",
    "                node.children[char] = TrieNode()\n",
    "            node = node.children[char]\n",
    "        node.is_end_of_word = True\n",
    "    \n",
    "    def search(self, word):\n",
    "        \"\"\"Search for a word in the trie to validate it's not a known word.\"\"\"\n",
    "        node = self.root\n",
    "        for char in word:\n",
    "            if char not in node.children:\n",
    "                return False\n",
    "            node = node.children[char]\n",
    "        return node.is_end_of_word\n",
    "\n",
    "def load_hindi_words(trie):\n",
    "    \"\"\"Load Hindi words from the NLTK Indian corpus into the trie.\"\"\"\n",
    "    words = indian.words('hindi.pos')\n",
    "    for word in words:\n",
    "        trie.insert(word)\n",
    "\n",
    "def generate_nonword(trie, length=3):\n",
    "    \"\"\"Generate a nonword that does not exist in the trie.\n",
    "       Currently we are using letters but Ideally we should use phonemes with phonotactic rules.\"\"\"\n",
    "    vowels = 'अआइईउऊएऐओऔअंअः'\n",
    "    consonants = 'कखगघचछजझटठडढतथदधनपफबभमयरलवशषसह'\n",
    "    \n",
    "    while True:\n",
    "        nonword = ''\n",
    "        pattern = [consonants, vowels] * (length // 2)  # Basic CV pattern\n",
    "\n",
    "        for i in range(length):\n",
    "            char_list = pattern[i % 2]\n",
    "            char = random.choice(char_list)\n",
    "            nonword += char\n",
    "        \n",
    "        # Ensure the nonword is not a real word and meets length criteria\n",
    "        if not trie.search(nonword):\n",
    "            return nonword\n",
    "\n",
    "# Initialize and load the trie with Hindi words\n",
    "trie = Trie()\n",
    "load_hindi_words(trie)\n",
    "\n",
    "# Example: Generate 10 Hindi two-letter and three-letter nonwords\n",
    "print(\"Two-letter Nonwords:\")\n",
    "for _ in range(10):\n",
    "    print(generate_nonword(trie, 2))\n",
    "\n",
    "print(\"\\nThree-letter Nonwords:\")\n",
    "for _ in range(10):\n",
    "    print(generate_nonword(trie, 3))"
   ]
  },
  {
   "cell_type": "code",
   "execution_count": null,
   "id": "96a44eff",
   "metadata": {},
   "outputs": [],
   "source": []
  },
  {
   "cell_type": "code",
   "execution_count": null,
   "id": "bbbffe91",
   "metadata": {},
   "outputs": [],
   "source": []
  },
  {
   "cell_type": "code",
   "execution_count": null,
   "id": "89024381",
   "metadata": {},
   "outputs": [],
   "source": []
  }
 ],
 "metadata": {
  "kernelspec": {
   "display_name": "Python 3 (ipykernel)",
   "language": "python",
   "name": "python3"
  },
  "language_info": {
   "codemirror_mode": {
    "name": "ipython",
    "version": 3
   },
   "file_extension": ".py",
   "mimetype": "text/x-python",
   "name": "python",
   "nbconvert_exporter": "python",
   "pygments_lexer": "ipython3",
   "version": "3.9.12"
  }
 },
 "nbformat": 4,
 "nbformat_minor": 5
}
